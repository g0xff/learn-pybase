{
 "cells": [
  {
   "cell_type": "markdown",
   "metadata": {},
   "source": [
    "[Шпаргалка][1] по markdown\n",
    "\n",
    "Кнопки:\n",
    "* b - новая строчка\n",
    "* m - заменяет на markdown\n",
    "\n",
    "[1]: https://github.com/sandino/Markdown-Cheatsheet \"Шпаргалка Markdown\""
   ]
  },
  {
   "cell_type": "code",
   "execution_count": 63,
   "metadata": {},
   "outputs": [
    {
     "name": "stdout",
     "output_type": "stream",
     "text": [
      "Сколько будет 1 плюс 2 ?\n"
     ]
    }
   ],
   "source": [
    "a,b = 1,2\n",
    "print('Сколько будет {} плюс {} ?'.format(a,b))"
   ]
  },
  {
   "cell_type": "code",
   "execution_count": null,
   "metadata": {},
   "outputs": [],
   "source": [
    "help()"
   ]
  },
  {
   "cell_type": "code",
   "execution_count": 62,
   "metadata": {},
   "outputs": [
    {
     "name": "stdout",
     "output_type": "stream",
     "text": [
      "a = [0, 0, 0, 4]; b = [0, 0, 0, 4]; c = [99, 99, 0, 4, 111, 2222, 3333];\n",
      "3333\n",
      "a\tb\tc\n",
      "['1', '2', '3', '4', '5']\n"
     ]
    }
   ],
   "source": [
    "import copy\n",
    "a = [1,2,3,4]\n",
    "b = a #Кидает ссылку как в С++ на переменую а\n",
    "b[0],b[1],b[2] = 0,0,0\n",
    "c = copy.deepcopy(b) #copy.copy\n",
    "c[0],c[1] = 99,99\n",
    "c.append(111); c += [2222,3333]\n",
    "print('a = {}; b = {}; c = {};'.format(a,b,c))\n",
    "print(c[-1])\n",
    "aStr = ['a','b','c']\n",
    "print('\\t'.join(aStr))\n",
    "stoA = '1.2.3.4.5'.split('.'); print(stoA)"
   ]
  },
  {
   "cell_type": "code",
   "execution_count": 70,
   "metadata": {},
   "outputs": [
    {
     "data": {
      "text/plain": [
       "[0, 2, 4, 6, 8]"
      ]
     },
     "execution_count": 70,
     "metadata": {},
     "output_type": "execute_result"
    }
   ],
   "source": [
    "r = range(0,10,2)\n",
    "list(r)"
   ]
  },
  {
   "cell_type": "code",
   "execution_count": 84,
   "metadata": {},
   "outputs": [
    {
     "name": "stdout",
     "output_type": "stream",
     "text": [
      "[1.2, 4.8, 8.4]\n"
     ]
    }
   ],
   "source": [
    "print([x*1.2 for x in range(10) if x%3==1])"
   ]
  },
  {
   "cell_type": "code",
   "execution_count": 86,
   "metadata": {},
   "outputs": [],
   "source": [
    "tmp = set(range(100)) #range100500миллионоов, через set легче искаь в таком массиве в раз тысячу."
   ]
  },
  {
   "cell_type": "code",
   "execution_count": 117,
   "metadata": {},
   "outputs": [
    {
     "data": {
      "text/plain": [
       "[1, 4, 16, 49]"
      ]
     },
     "execution_count": 117,
     "metadata": {},
     "output_type": "execute_result"
    }
   ],
   "source": [
    "list(map( lambda x: x*x,[1,2,4,7] ))"
   ]
  },
  {
   "cell_type": "code",
   "execution_count": 137,
   "metadata": {},
   "outputs": [
    {
     "name": "stdout",
     "output_type": "stream",
     "text": [
      "no\n",
      "99\n"
     ]
    }
   ],
   "source": [
    "a = {'a':1,'b':2}\n",
    "if 'c' in a: \n",
    "    print('ok')\n",
    "else: \n",
    "    print('no')\n",
    "a.setdefault(99);\n",
    "print( a.setdefault('c',99) )"
   ]
  },
  {
   "cell_type": "code",
   "execution_count": 150,
   "metadata": {},
   "outputs": [
    {
     "name": "stdout",
     "output_type": "stream",
     "text": [
      "('a', 1)\n",
      "('d', 3)\n",
      "('d', 5)\n",
      "('r', 7)\n"
     ]
    },
    {
     "data": {
      "text/plain": [
       "{'a': 99, 'd': 0, 'r': 4}"
      ]
     },
     "execution_count": 150,
     "metadata": {},
     "output_type": "execute_result"
    }
   ],
   "source": [
    "a = [1,3,5,7]; b = ['a','d','d','r']\n",
    "[print(x) for x in zip(b,a)]\n",
    "dict(zip(b,c)) #преоброзовать два масива в словарь"
   ]
  },
  {
   "cell_type": "code",
   "execution_count": 167,
   "metadata": {},
   "outputs": [
    {
     "data": {
      "text/plain": [
       "['daf23', 'adf23dddd', '34ddd']"
      ]
     },
     "execution_count": 167,
     "metadata": {},
     "output_type": "execute_result"
    }
   ],
   "source": [
    "import re\n",
    "a = ['daf23','fsdf','adf23dddd','3ddd2','34ddd']\n",
    "pattern = '.*[0-9]{2,3}'\n",
    "prog = re.compile(pattern)\n",
    "[i for i in a if prog.match(i)]"
   ]
  },
  {
   "cell_type": "code",
   "execution_count": 174,
   "metadata": {},
   "outputs": [],
   "source": [
    "import logging\n",
    "from datetime import datetime, timedelta"
   ]
  },
  {
   "cell_type": "code",
   "execution_count": 208,
   "metadata": {},
   "outputs": [
    {
     "name": "stdout",
     "output_type": "stream",
     "text": [
      "5\n",
      "{'error': {'error_code': 5,\n",
      "           'error_msg': 'User authorization failed: no access_token passed.',\n",
      "           'request_params': [{'key': 'uids_ids', 'value': '1,2,3'},\n",
      "                              {'key': 'v', 'value': '5.105'},\n",
      "                              {'key': 'method', 'value': 'users.get'},\n",
      "                              {'key': 'oauth', 'value': '1'}]}}\n"
     ]
    }
   ],
   "source": [
    "import pprint\n",
    "import requests\n",
    "url = 'https://api.vk.com/method/users.get'\n",
    "params = {\n",
    "    'uids_ids':'1,2,3',\n",
    "    'v':5.105\n",
    "}\n",
    "r = requests.get(url,params=params); #или сразу json и из post requests.get(url,params=params).json()\n",
    "r.json()\n",
    "r.text\n",
    "\n",
    "import json\n",
    "rj = json.loads(r.text) #преобразует текстовый json в список\n",
    "print(rj['error']['error_code'])\n",
    "pprint.pprint(rj)"
   ]
  },
  {
   "cell_type": "code",
   "execution_count": null,
   "metadata": {},
   "outputs": [],
   "source": [
    "#dddd"
   ]
  }
 ],
 "metadata": {
  "kernelspec": {
   "display_name": "Python 3",
   "language": "python",
   "name": "python3"
  },
  "language_info": {
   "codemirror_mode": {
    "name": "ipython",
    "version": 3
   },
   "file_extension": ".py",
   "mimetype": "text/x-python",
   "name": "python",
   "nbconvert_exporter": "python",
   "pygments_lexer": "ipython3",
   "version": "3.7.4"
  }
 },
 "nbformat": 4,
 "nbformat_minor": 2
}
